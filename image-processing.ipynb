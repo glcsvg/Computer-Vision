{
 "cells": [
  {
   "cell_type": "code",
   "execution_count": 14,
   "metadata": {},
   "outputs": [],
   "source": [
    "import cv2\n",
    "import numpy as np\n",
    "\n",
    "# Read the image\n",
    "img = cv2.imread(\"/home/Desktop/shopsign_project/images/r12.jpg\",cv2.IMREAD_COLOR)\n",
    "\n",
    "# Blur the image with a big kernel and then transform to gray colorspace\n",
    "blur = cv2.GaussianBlur(img,(7,7),0)\n",
    "gray = cv2.cvtColor(blur,cv2.COLOR_BGR2GRAY)\n",
    "\n",
    "# Perform histogram equalization on the blur and then perform Otsu threshold\n",
    "equ = cv2.equalizeHist(gray)\n",
    "_, thresh = cv2.threshold(equ,0,255,cv2.THRESH_BINARY+cv2.THRESH_OTSU)\n",
    "\n",
    "# Perform opening on threshold with a big kernel (erosion followed by dilation)\n",
    "kernel = np.ones((20,20),np.uint8)\n",
    "opening = cv2.morphologyEx(thresh, cv2.MORPH_OPEN, kernel)\n",
    "\n",
    "# Search for contours and select the biggest one\n",
    "contours, hierarchy = cv2.findContours(opening,cv2.RETR_TREE,cv2.CHAIN_APPROX_NONE)\n",
    "cnt = max(contours, key=cv2.contourArea)\n",
    "\n",
    "# Make a hull arround the contour and draw it on the original image\n",
    "mask = np.zeros((img.shape[:2]), np.uint8)\n",
    "hull = cv2.convexHull(cnt)\n",
    "cv2.drawContours(mask, [hull], 0, (255,255,255),-1)\n",
    "\n",
    "# Search for contours and select the biggest one again\n",
    "_, thresh = cv2.threshold(mask,0,255,cv2.THRESH_BINARY+cv2.THRESH_OTSU)\n",
    "contours, hierarchy = cv2.findContours(thresh,cv2.RETR_TREE,cv2.CHAIN_APPROX_NONE)\n",
    "cnt = max(contours, key=cv2.contourArea)\n",
    "\n",
    "# Draw approxPolyDP on the image\n",
    "epsilon = 0.008*cv2.arcLength(cnt,True)\n",
    "approx = cv2.approxPolyDP(cnt,epsilon,True)\n",
    "cv2.drawContours(img, [cnt], 0, (0,255,0), 5)\n",
    "\n",
    "# Display the image\n",
    "cv2.imshow('img', img)\n",
    "cv2.waitKey(0)\n",
    "cv2.destroyAllWindows()"
   ]
  },
  {
   "cell_type": "code",
   "execution_count": 10,
   "metadata": {},
   "outputs": [
    {
     "data": {
      "text/plain": [
       "NoneType"
      ]
     },
     "execution_count": 10,
     "metadata": {},
     "output_type": "execute_result"
    }
   ],
   "source": [
    "type(img)"
   ]
  }
 ],
 "metadata": {
  "kernelspec": {
   "display_name": "Python 3",
   "language": "python",
   "name": "python3"
  },
  "language_info": {
   "codemirror_mode": {
    "name": "ipython",
    "version": 3
   },
   "file_extension": ".py",
   "mimetype": "text/x-python",
   "name": "python",
   "nbconvert_exporter": "python",
   "pygments_lexer": "ipython3",
   "version": "3.6.9"
  }
 },
 "nbformat": 4,
 "nbformat_minor": 4
}