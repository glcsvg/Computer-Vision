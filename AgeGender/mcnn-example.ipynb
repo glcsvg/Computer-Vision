{
 "cells": [
  {
   "cell_type": "code",
   "execution_count": 7,
   "id": "b763d286",
   "metadata": {},
   "outputs": [],
   "source": [
    "from __future__ import print_function\n",
    "import numpy as np\n",
    "import cv2\n",
    "import matplotlib.pyplot as plt\n",
    "import MNN\n",
    "import time\n"
   ]
  },
  {
   "cell_type": "code",
   "execution_count": 8,
   "id": "705cb436",
   "metadata": {},
   "outputs": [],
   "source": [
    "input_size = [64,64]\n",
    "image_mean = np.array([127, 127, 127])\n",
    "image_std = 128.0\n",
    "\n",
    "image_ori = cv2.imread('r1.jpg')"
   ]
  },
  {
   "cell_type": "code",
   "execution_count": null,
   "id": "5dec0084",
   "metadata": {},
   "outputs": [],
   "source": [
    "interpreter = MNN.Interpreter(\"ssrnet.mnn\")\n",
    "\n",
    "#create the MNN session by using MNN interpreter\n",
    "session = interpreter.createSession()\n",
    "\n",
    "#get the input dict from the session \n",
    "input_tensor = interpreter.getSessionInputAll(session)\n",
    "\n",
    "#get the output dict from the session \n",
    "outputs = interpreter.getSessionOutputAll(session())\n",
    "print(\"input : {} output: {}\".format(input_tensor,outputs))\n",
    "\n",
    "print(\"orjinal\",image_ori.shape)"
   ]
  },
  {
   "cell_type": "code",
   "execution_count": null,
   "id": "980d8d8b",
   "metadata": {},
   "outputs": [],
   "source": [
    "def inference():\n",
    "    \"\"\" inference face detect using a specific picture\n",
    "        \n",
    "        the face detect network's backbone is mobile-ssd w/ two outputs tensors.\n",
    "    \"\"\"\n",
    "\n",
    "\n",
    "    #create the MNN interpreter from model file\n",
    "\n",
    "\n",
    "\n",
    "\n",
    "    #image = cv2.cvtColor(image_ori, cv2.COLOR_BGR2RGB)\n",
    "    image = cv2.resize(image, tuple(input_size))\n",
    "    image = image.astype(float)\n",
    "    image = (image - image_mean) / image_std\n",
    "    image = image.transpose((2, 0, 1))\n",
    "    print(image.shape)\n",
    "    tmp_input = MNN.Tensor((1, 3, input_size[1], input_size[0]), MNN.Halide_Type_Float, image, MNN.Tensor_DimensionType_Caffe)\n",
    "\n",
    "    input_tensor.copyFrom(tmp_input)\n",
    "    time_time = time.time()\n",
    "    interpreter.runSession(session)\n",
    "    scores = interpreter.getSessionOutput(session, \"scores\").getData()\n",
    "    boxes = interpreter.getSessionOutput(session, \"boxes\").getData()"
   ]
  }
 ],
 "metadata": {
  "kernelspec": {
   "display_name": "Python 3",
   "language": "python",
   "name": "python3"
  },
  "language_info": {
   "codemirror_mode": {
    "name": "ipython",
    "version": 3
   },
   "file_extension": ".py",
   "mimetype": "text/x-python",
   "name": "python",
   "nbconvert_exporter": "python",
   "pygments_lexer": "ipython3",
   "version": "3.6.9"
  }
 },
 "nbformat": 4,
 "nbformat_minor": 5
}
