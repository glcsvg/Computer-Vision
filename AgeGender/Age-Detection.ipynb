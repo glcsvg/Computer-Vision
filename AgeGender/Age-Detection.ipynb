{
 "cells": [
  {
   "cell_type": "code",
   "execution_count": 1,
   "id": "520bfa69",
   "metadata": {},
   "outputs": [],
   "source": [
    "import os, random, shutil\n",
    "import numpy as np\n",
    "import pandas as pd\n",
    "import PIL\n",
    "#import keras\n",
    "import itertools\n",
    "from PIL import Image\n",
    "\n",
    "import tensorflow as tf\n",
    "\n",
    "from sklearn.utils import shuffle\n",
    "from sklearn.model_selection import train_test_split\n",
    "from sklearn import preprocessing\n",
    "#from skimage import feature, data, io, measure\n",
    "from sklearn.metrics import confusion_matrix\n",
    "\n",
    "import matplotlib.pyplot as plt\n",
    "from matplotlib import ticker\n",
    "import seaborn as sns\n",
    "%matplotlib inline \n",
    "\n",
    "import cv2\n",
    "from tensorflow.keras import backend as K\n",
    "from tensorflow.keras.models import Model\n",
    "from tensorflow.keras.models import Sequential\n",
    "from tensorflow.keras.layers import Input, Dropout, Flatten, Conv2D, MaxPooling2D, Dense, Activation\n",
    "from tensorflow.keras.optimizers import RMSprop, Adam\n",
    "from tensorflow.keras.layers import BatchNormalization\n",
    "#from keras.callbacks import ModelCheckpoint, Callback, EarlyStopping\n",
    "from keras.utils import np_utils\n",
    "from tensorflow.keras.preprocessing.image import ImageDataGenerator, array_to_img, img_to_array, load_img\n",
    "from tensorflow.keras.callbacks import TensorBoard\n",
    "import io\n",
    "import time\n",
    "import datetime\n",
    "from tensorflow.keras.optimizers import Adam,Adadelta\n",
    "from tensorflow.keras.preprocessing.image import ImageDataGenerator"
   ]
  },
  {
   "cell_type": "code",
   "execution_count": 2,
   "id": "1f8eeeec",
   "metadata": {},
   "outputs": [],
   "source": [
    "batch_size_train = 25\n",
    "num_classes= 3\n",
    "IMAGE_SIZE=[200,200]\n",
    "classes_required = ['child','young','old']"
   ]
  },
  {
   "cell_type": "code",
   "execution_count": 3,
   "id": "50a68dbc",
   "metadata": {},
   "outputs": [
    {
     "name": "stdout",
     "output_type": "stream",
     "text": [
      "Found 37646 images belonging to 3 classes.\n"
     ]
    }
   ],
   "source": [
    "datagen = ImageDataGenerator(rescale=1.0/255.0)\n",
    "\n",
    "train_path = '/home/dell/Desktop/datasets/AGEGENDER/agedb/train'\n",
    "train_batches = datagen.flow_from_directory(train_path, target_size=(200,200), classes=classes_required, batch_size=batch_size_train)\n"
   ]
  },
  {
   "cell_type": "code",
   "execution_count": 4,
   "id": "d4d0a2f2",
   "metadata": {},
   "outputs": [],
   "source": [
    "model=Sequential()\n",
    "model.add(Conv2D(16,kernel_size=(3,3), activation=\"relu\" ,input_shape=IMAGE_SIZE + [3], padding='same'))\n",
    "\n",
    "model.add(Conv2D(32, kernel_size=(3,3), activation=\"relu\",padding='same'))\n",
    "model.add(BatchNormalization()) \n",
    "model.add(MaxPooling2D(pool_size=(2,2)))\n",
    "model.add(Dropout(0.30))\n",
    "\n",
    "model.add(Conv2D(64, kernel_size=(3,3), activation=\"relu\",padding='same'))\n",
    "#model.add(BatchNormalization()) \n",
    "model.add(MaxPooling2D(pool_size=(2,2)))\n",
    "model.add(Dropout(0.35))\n",
    "\n",
    "model.add(Conv2D(128, kernel_size=(3,3), activation=\"relu\",padding='same'))\n",
    "#model.add(MaxPooling2D(pool_size=(2,2)))\n",
    "model.add(BatchNormalization()) \n",
    "model.add(Dropout(0.45))\n",
    "\n",
    "model.add(Flatten())\n",
    "model.add(Dense(64, activation=\"relu\"))\n",
    "model.add(Dense(num_classes, activation=\"softmax\"))\n"
   ]
  },
  {
   "cell_type": "code",
   "execution_count": null,
   "id": "19789084",
   "metadata": {},
   "outputs": [],
   "source": [
    "from sklearn.utils import class_weight\n",
    "class_weights = class_weight.compute_class_weight('balanced',\n",
    "                                                 np.unique(train_batches))"
   ]
  },
  {
   "cell_type": "code",
   "execution_count": 8,
   "id": "9accacf7",
   "metadata": {},
   "outputs": [
    {
     "data": {
      "text/plain": [
       "{0: 1.0, 1: 1.0, 2: 1.0}"
      ]
     },
     "execution_count": 8,
     "metadata": {},
     "output_type": "execute_result"
    }
   ],
   "source": [
    "import numpy as np\n",
    "import math\n",
    "\n",
    "# labels_dict : {ind_label: count_label}\n",
    "# mu : parameter to tune \n",
    "\n",
    "def create_class_weight(labels_dict,mu=0.15):\n",
    "    total = np.sum(list(labels_dict.values()))\n",
    "    keys = labels_dict.keys()\n",
    "    class_weight = dict()\n",
    "    \n",
    "    for key in keys:\n",
    "        score = math.log(mu*total/float(labels_dict[key]))\n",
    "        class_weight[key] = score if score > 1.0 else 1.0\n",
    "    \n",
    "    return class_weight\n",
    "\n",
    "# random labels_dict\n",
    "labels_dict = {0: 12114, 1: 18990, 2: 6542}\n",
    "\n",
    "create_class_weight(labels_dict)"
   ]
  },
  {
   "cell_type": "code",
   "execution_count": null,
   "id": "d549115b",
   "metadata": {},
   "outputs": [],
   "source": [
    "class_weight = {0: 50.,\n",
    "                1: 50.,\n",
    "                2: 1.}"
   ]
  },
  {
   "cell_type": "code",
   "execution_count": 9,
   "id": "a19869df",
   "metadata": {},
   "outputs": [],
   "source": [
    "opt = Adadelta(learning_rate=0.0001, decay=1e-6)\n",
    "model.compile(optimizer=opt, loss='categorical_crossentropy', metrics=['accuracy'])"
   ]
  },
  {
   "cell_type": "code",
   "execution_count": 10,
   "id": "039aa592",
   "metadata": {
    "scrolled": true
   },
   "outputs": [
    {
     "name": "stderr",
     "output_type": "stream",
     "text": [
      "/home/dell/.local/lib/python3.6/site-packages/keras/engine/training.py:1972: UserWarning: `Model.fit_generator` is deprecated and will be removed in a future version. Please use `Model.fit`, which supports generators.\n",
      "  warnings.warn('`Model.fit_generator` is deprecated and '\n"
     ]
    },
    {
     "name": "stdout",
     "output_type": "stream",
     "text": [
      "Epoch 1/100\n",
      "50/50 [==============================] - 10s 132ms/step - loss: 2.1028 - accuracy: 0.2704\n",
      "Epoch 2/100\n",
      "50/50 [==============================] - 7s 137ms/step - loss: 1.8751 - accuracy: 0.3144\n",
      "Epoch 3/100\n",
      "50/50 [==============================] - 7s 138ms/step - loss: 1.7921 - accuracy: 0.3216\n",
      "Epoch 4/100\n",
      "50/50 [==============================] - 7s 142ms/step - loss: 1.6304 - accuracy: 0.3448\n",
      "Epoch 5/100\n",
      "50/50 [==============================] - 7s 134ms/step - loss: 1.6039 - accuracy: 0.3536\n",
      "Epoch 6/100\n",
      "50/50 [==============================] - 7s 137ms/step - loss: 1.5089 - accuracy: 0.3704\n",
      "Epoch 7/100\n",
      "50/50 [==============================] - 8s 161ms/step - loss: 1.5054 - accuracy: 0.3892\n",
      "Epoch 8/100\n",
      "50/50 [==============================] - 8s 168ms/step - loss: 1.5518 - accuracy: 0.3736\n",
      "Epoch 9/100\n",
      "50/50 [==============================] - 10s 194ms/step - loss: 1.4327 - accuracy: 0.4032\n",
      "Epoch 10/100\n",
      "50/50 [==============================] - 10s 193ms/step - loss: 1.3884 - accuracy: 0.4376\n",
      "Epoch 11/100\n",
      "50/50 [==============================] - 10s 193ms/step - loss: 1.4234 - accuracy: 0.4248\n",
      "Epoch 12/100\n",
      "50/50 [==============================] - 10s 193ms/step - loss: 1.4414 - accuracy: 0.4061\n",
      "Epoch 13/100\n",
      "50/50 [==============================] - 10s 192ms/step - loss: 1.4101 - accuracy: 0.4096\n",
      "Epoch 14/100\n",
      "50/50 [==============================] - 10s 193ms/step - loss: 1.3611 - accuracy: 0.4200\n",
      "Epoch 15/100\n",
      "50/50 [==============================] - 10s 192ms/step - loss: 1.3964 - accuracy: 0.4310\n",
      "Epoch 16/100\n",
      "50/50 [==============================] - 10s 193ms/step - loss: 1.4139 - accuracy: 0.4248\n",
      "Epoch 17/100\n",
      "50/50 [==============================] - 10s 193ms/step - loss: 1.4137 - accuracy: 0.4222\n",
      "Epoch 18/100\n",
      "50/50 [==============================] - 10s 199ms/step - loss: 1.4277 - accuracy: 0.4288\n",
      "Epoch 19/100\n",
      "50/50 [==============================] - 10s 197ms/step - loss: 1.3782 - accuracy: 0.4392\n",
      "Epoch 20/100\n",
      "50/50 [==============================] - 10s 196ms/step - loss: 1.3819 - accuracy: 0.4568\n",
      "Epoch 21/100\n",
      "50/50 [==============================] - 10s 197ms/step - loss: 1.3858 - accuracy: 0.4168\n",
      "Epoch 22/100\n",
      "50/50 [==============================] - 10s 196ms/step - loss: 1.3491 - accuracy: 0.4592\n",
      "Epoch 23/100\n",
      "50/50 [==============================] - 10s 195ms/step - loss: 1.3297 - accuracy: 0.4616\n",
      "Epoch 24/100\n",
      "50/50 [==============================] - 10s 197ms/step - loss: 1.3420 - accuracy: 0.4336\n",
      "Epoch 25/100\n",
      "50/50 [==============================] - 11s 208ms/step - loss: 1.4135 - accuracy: 0.4208\n",
      "Epoch 26/100\n",
      "50/50 [==============================] - 10s 205ms/step - loss: 1.3714 - accuracy: 0.4416\n",
      "Epoch 27/100\n",
      "50/50 [==============================] - 11s 210ms/step - loss: 1.2823 - accuracy: 0.4520\n",
      "Epoch 28/100\n",
      "50/50 [==============================] - 10s 208ms/step - loss: 1.3343 - accuracy: 0.4552\n",
      "Epoch 29/100\n",
      "50/50 [==============================] - 11s 208ms/step - loss: 1.3316 - accuracy: 0.4544\n",
      "Epoch 30/100\n",
      "50/50 [==============================] - 11s 208ms/step - loss: 1.3114 - accuracy: 0.4552\n",
      "Epoch 31/100\n",
      "50/50 [==============================] - 10s 208ms/step - loss: 1.2977 - accuracy: 0.4608\n",
      "Epoch 32/100\n",
      "50/50 [==============================] - 11s 209ms/step - loss: 1.2787 - accuracy: 0.4744\n",
      "Epoch 33/100\n",
      "50/50 [==============================] - 10s 208ms/step - loss: 1.3301 - accuracy: 0.4368\n",
      "Epoch 34/100\n",
      "50/50 [==============================] - 11s 208ms/step - loss: 1.2647 - accuracy: 0.4768\n",
      "Epoch 35/100\n",
      "50/50 [==============================] - 10s 209ms/step - loss: 1.3097 - accuracy: 0.4680\n",
      "Epoch 36/100\n",
      "50/50 [==============================] - 11s 209ms/step - loss: 1.2282 - accuracy: 0.4840\n",
      "Epoch 37/100\n",
      "50/50 [==============================] - 11s 209ms/step - loss: 1.3264 - accuracy: 0.4600\n",
      "Epoch 38/100\n",
      "50/50 [==============================] - 11s 208ms/step - loss: 1.2796 - accuracy: 0.4551\n",
      "Epoch 39/100\n",
      "50/50 [==============================] - 11s 211ms/step - loss: 1.2682 - accuracy: 0.4648\n",
      "Epoch 40/100\n",
      "50/50 [==============================] - 11s 209ms/step - loss: 1.2776 - accuracy: 0.4872\n",
      "Epoch 41/100\n",
      "50/50 [==============================] - 11s 209ms/step - loss: 1.3106 - accuracy: 0.4688\n",
      "Epoch 42/100\n",
      "50/50 [==============================] - 11s 209ms/step - loss: 1.2919 - accuracy: 0.4720\n",
      "Epoch 43/100\n",
      "50/50 [==============================] - 11s 209ms/step - loss: 1.1978 - accuracy: 0.5024\n",
      "Epoch 44/100\n",
      "50/50 [==============================] - 11s 209ms/step - loss: 1.2803 - accuracy: 0.4744\n",
      "Epoch 45/100\n",
      "50/50 [==============================] - 11s 210ms/step - loss: 1.2891 - accuracy: 0.4664\n",
      "Epoch 46/100\n",
      "50/50 [==============================] - 11s 209ms/step - loss: 1.2559 - accuracy: 0.4712\n",
      "Epoch 47/100\n",
      "50/50 [==============================] - 11s 209ms/step - loss: 1.2546 - accuracy: 0.4616\n",
      "Epoch 48/100\n",
      "50/50 [==============================] - 11s 209ms/step - loss: 1.2263 - accuracy: 0.4880\n",
      "Epoch 49/100\n",
      "50/50 [==============================] - 11s 210ms/step - loss: 1.2652 - accuracy: 0.4760\n",
      "Epoch 50/100\n",
      "50/50 [==============================] - 11s 210ms/step - loss: 1.1905 - accuracy: 0.4864\n",
      "Epoch 51/100\n",
      "50/50 [==============================] - 11s 209ms/step - loss: 1.2325 - accuracy: 0.4856\n",
      "Epoch 52/100\n",
      "50/50 [==============================] - 11s 209ms/step - loss: 1.3222 - accuracy: 0.4584\n",
      "Epoch 53/100\n",
      "50/50 [==============================] - 11s 210ms/step - loss: 1.2569 - accuracy: 0.4776\n",
      "Epoch 54/100\n",
      "50/50 [==============================] - 11s 211ms/step - loss: 1.2725 - accuracy: 0.4880\n",
      "Epoch 55/100\n",
      "50/50 [==============================] - 11s 208ms/step - loss: 1.2201 - accuracy: 0.5096\n",
      "Epoch 56/100\n",
      "50/50 [==============================] - 11s 208ms/step - loss: 1.1674 - accuracy: 0.5200\n",
      "Epoch 57/100\n",
      "50/50 [==============================] - 11s 208ms/step - loss: 1.2687 - accuracy: 0.4640\n",
      "Epoch 58/100\n",
      "50/50 [==============================] - 10s 208ms/step - loss: 1.2366 - accuracy: 0.4816\n",
      "Epoch 59/100\n",
      "50/50 [==============================] - 11s 208ms/step - loss: 1.1992 - accuracy: 0.5000\n",
      "Epoch 60/100\n",
      "50/50 [==============================] - 11s 208ms/step - loss: 1.1920 - accuracy: 0.4904\n",
      "Epoch 61/100\n",
      "50/50 [==============================] - 10s 208ms/step - loss: 1.2771 - accuracy: 0.4648\n",
      "Epoch 62/100\n",
      "50/50 [==============================] - 11s 208ms/step - loss: 1.2067 - accuracy: 0.5120\n",
      "Epoch 63/100\n",
      "50/50 [==============================] - 11s 208ms/step - loss: 1.1854 - accuracy: 0.5096\n",
      "Epoch 64/100\n",
      "50/50 [==============================] - 11s 208ms/step - loss: 1.1887 - accuracy: 0.4816\n",
      "Epoch 65/100\n",
      "50/50 [==============================] - 11s 208ms/step - loss: 1.1903 - accuracy: 0.4960\n",
      "Epoch 66/100\n",
      "50/50 [==============================] - 11s 208ms/step - loss: 1.2319 - accuracy: 0.4784\n",
      "Epoch 67/100\n",
      "50/50 [==============================] - 11s 208ms/step - loss: 1.2126 - accuracy: 0.4792\n",
      "Epoch 68/100\n",
      "50/50 [==============================] - 11s 208ms/step - loss: 1.2207 - accuracy: 0.4960\n",
      "Epoch 69/100\n",
      "50/50 [==============================] - 10s 208ms/step - loss: 1.1857 - accuracy: 0.4872\n",
      "Epoch 70/100\n",
      "50/50 [==============================] - 11s 208ms/step - loss: 1.1489 - accuracy: 0.5040\n",
      "Epoch 71/100\n",
      "50/50 [==============================] - 10s 208ms/step - loss: 1.2386 - accuracy: 0.4744\n",
      "Epoch 72/100\n",
      "50/50 [==============================] - 11s 208ms/step - loss: 1.1698 - accuracy: 0.5104\n",
      "Epoch 73/100\n",
      "50/50 [==============================] - 11s 208ms/step - loss: 1.2483 - accuracy: 0.4712\n",
      "Epoch 74/100\n",
      "50/50 [==============================] - 11s 208ms/step - loss: 1.1118 - accuracy: 0.5160\n",
      "Epoch 75/100\n",
      "50/50 [==============================] - 11s 208ms/step - loss: 1.2093 - accuracy: 0.4888\n",
      "Epoch 76/100\n",
      "50/50 [==============================] - 11s 208ms/step - loss: 1.2073 - accuracy: 0.4776\n",
      "Epoch 77/100\n",
      "50/50 [==============================] - 11s 208ms/step - loss: 1.1620 - accuracy: 0.5160\n",
      "Epoch 78/100\n",
      "50/50 [==============================] - 10s 208ms/step - loss: 1.1725 - accuracy: 0.4984\n",
      "Epoch 79/100\n",
      "50/50 [==============================] - 10s 208ms/step - loss: 1.2486 - accuracy: 0.4640\n",
      "Epoch 80/100\n"
     ]
    },
    {
     "name": "stdout",
     "output_type": "stream",
     "text": [
      "50/50 [==============================] - 10s 208ms/step - loss: 1.1494 - accuracy: 0.5104\n",
      "Epoch 81/100\n",
      "50/50 [==============================] - 11s 208ms/step - loss: 1.1638 - accuracy: 0.5192\n",
      "Epoch 82/100\n",
      "50/50 [==============================] - 11s 211ms/step - loss: 1.2509 - accuracy: 0.4904\n",
      "Epoch 83/100\n",
      "50/50 [==============================] - 11s 210ms/step - loss: 1.1607 - accuracy: 0.5048\n",
      "Epoch 84/100\n",
      "50/50 [==============================] - 11s 208ms/step - loss: 1.1170 - accuracy: 0.5192\n",
      "Epoch 85/100\n",
      "50/50 [==============================] - 11s 208ms/step - loss: 1.2091 - accuracy: 0.5000\n",
      "Epoch 86/100\n",
      "50/50 [==============================] - 10s 207ms/step - loss: 1.1662 - accuracy: 0.5032\n",
      "Epoch 87/100\n",
      "50/50 [==============================] - 11s 208ms/step - loss: 1.1455 - accuracy: 0.5088\n",
      "Epoch 88/100\n",
      "50/50 [==============================] - 11s 211ms/step - loss: 1.1383 - accuracy: 0.5128\n",
      "Epoch 89/100\n",
      "50/50 [==============================] - 11s 208ms/step - loss: 1.2270 - accuracy: 0.4792\n",
      "Epoch 90/100\n",
      "50/50 [==============================] - 10s 208ms/step - loss: 1.1599 - accuracy: 0.4952\n",
      "Epoch 91/100\n",
      "50/50 [==============================] - 11s 208ms/step - loss: 1.2053 - accuracy: 0.5000\n",
      "Epoch 92/100\n",
      "50/50 [==============================] - 10s 208ms/step - loss: 1.1199 - accuracy: 0.5152\n",
      "Epoch 93/100\n",
      "50/50 [==============================] - 11s 208ms/step - loss: 1.2452 - accuracy: 0.4808\n",
      "Epoch 94/100\n",
      "50/50 [==============================] - 11s 209ms/step - loss: 1.1651 - accuracy: 0.5008\n",
      "Epoch 95/100\n",
      "50/50 [==============================] - 11s 208ms/step - loss: 1.1743 - accuracy: 0.4872\n",
      "Epoch 96/100\n",
      "50/50 [==============================] - 10s 208ms/step - loss: 1.1407 - accuracy: 0.5040\n",
      "Epoch 97/100\n",
      "50/50 [==============================] - 11s 208ms/step - loss: 1.1239 - accuracy: 0.5144\n",
      "Epoch 98/100\n",
      "50/50 [==============================] - 11s 208ms/step - loss: 1.2005 - accuracy: 0.4720\n",
      "Epoch 99/100\n",
      "50/50 [==============================] - 10s 208ms/step - loss: 1.1806 - accuracy: 0.5008\n",
      "Epoch 100/100\n",
      "50/50 [==============================] - 11s 211ms/step - loss: 1.1650 - accuracy: 0.5008\n"
     ]
    },
    {
     "data": {
      "text/plain": [
       "<keras.callbacks.History at 0x7f9bb488a240>"
      ]
     },
     "execution_count": 10,
     "metadata": {},
     "output_type": "execute_result"
    }
   ],
   "source": [
    "model.fit_generator(train_batches, steps_per_epoch=50, epochs=100, verbose=1)"
   ]
  },
  {
   "cell_type": "code",
   "execution_count": 19,
   "id": "0affdfe3",
   "metadata": {},
   "outputs": [],
   "source": [
    "model.save(\"model_age.h5\")\n",
    "model_loaded = load_model(\"model_age.h5\")"
   ]
  },
  {
   "cell_type": "code",
   "execution_count": 18,
   "id": "85987453",
   "metadata": {},
   "outputs": [],
   "source": [
    "from tensorflow.keras.models import load_model"
   ]
  },
  {
   "cell_type": "code",
   "execution_count": 22,
   "id": "663ba06c",
   "metadata": {},
   "outputs": [
    {
     "name": "stdout",
     "output_type": "stream",
     "text": [
      "Old age person.\n"
     ]
    }
   ],
   "source": [
    "test_image=cv2.imread(\"/home/dell/Desktop/datasets/AGEGENDER/agedb/val/child/18_0_1_20170113135429329.jpg.chip.jpg\")\n",
    "test_image = np.expand_dims(test_image, axis=0)\n",
    "out=np.argmax(model_loaded.predict(test_image))\n",
    "Ans=np.where(out==0, \"Young\",\n",
    "         (np.where(out==1,\"Old\",\n",
    "         \"Child\"))).item()\n",
    "print(Ans+\" age person.\")"
   ]
  },
  {
   "cell_type": "code",
   "execution_count": null,
   "id": "f8e49d21",
   "metadata": {},
   "outputs": [],
   "source": []
  }
 ],
 "metadata": {
  "kernelspec": {
   "display_name": "Python 3",
   "language": "python",
   "name": "python3"
  },
  "language_info": {
   "codemirror_mode": {
    "name": "ipython",
    "version": 3
   },
   "file_extension": ".py",
   "mimetype": "text/x-python",
   "name": "python",
   "nbconvert_exporter": "python",
   "pygments_lexer": "ipython3",
   "version": "3.6.9"
  }
 },
 "nbformat": 4,
 "nbformat_minor": 5
}
